{
 "cells": [
  {
   "cell_type": "markdown",
   "metadata": {},
   "source": [
    "## Implementation of the Vanilla Policy Gradient (REINFORCE) \n",
    "### using the Cartpole environment provided by gym"
   ]
  },
  {
   "cell_type": "code",
   "execution_count": null,
   "metadata": {},
   "outputs": [],
   "source": [
    "import numpy as np\n",
    "import matplotlib.pyplot as plt\n",
    "import gym\n",
    "import torch\n",
    "from torch import nn\n",
    "from torch import optim"
   ]
  },
  {
   "cell_type": "code",
   "execution_count": 12,
   "metadata": {},
   "outputs": [],
   "source": [
    "# create a policy network that input (obs) --> output (logits of actions, logits due to use of softmax function)\n",
    "\n",
    "class policy_network():\n",
    "    def __init__(self, env):\n",
    "        self.n_inputs = env.observation_space.shape[0]\n",
    "        self.n_outputs = env.action_space.n\n",
    "        \n",
    "        # Define network\n",
    "        self.network = nn.Sequential(\n",
    "            nn.Linear(self.n_inputs, 40), #fully connected layer\n",
    "            nn.ReLU(), \n",
    "            nn.Linear(40, 40),\n",
    "            nn.ReLU(),\n",
    "            nn.Linear(40, self.n_outputs),\n",
    "            nn.Softmax(dim=-1)) # turns logits into probs\n",
    "    \n",
    "    def predict(self, obs):\n",
    "        action_probs = self.network(torch.FloatTensor(obs))\n",
    "        return action_probs"
   ]
  },
  {
   "cell_type": "code",
   "execution_count": 13,
   "metadata": {},
   "outputs": [],
   "source": [
    "# create data loop --> save current obs \n",
    "#                  --> run obs through policy network get logits of actions\n",
    "#                  --> sample action using prob_actions from policy network \n",
    "#                  --> save action \n",
    "#                  --> act using gym env, returns new obs and reward\n",
    "#                  --> save reward \n",
    "#             --> after 1 episode ends save discounted rewards used for optimization\n",
    "#             --> reset env\n",
    "\n",
    "def create_episode(policy_network, env): # done\n",
    "    action_space = np.arange(env.action_space.n)\n",
    "    done = False\n",
    "    obs = env.reset()\n",
    "    observations, rewards, actions = [], [], []\n",
    "    while not done:\n",
    "        observations.append(obs)\n",
    "        act_probs = policy_network.predict(obs).detach().numpy() \n",
    "        act = np.random.choice(action_space, p=act_probs) \n",
    "        actions.append(act)\n",
    "        obs, r, done, _ = env.step(act)\n",
    "        rewards.append(r)\n",
    "    return observations, actions, rewards\n",
    "\n",
    "def normalized_discounted_rewards(rewards, gamma): # done\n",
    "    r = np.array([gamma**i * rewards[i] for i in range(len(rewards))])\n",
    "    r = r[::-1].cumsum()[::-1]\n",
    "    return r - r.mean()\n",
    "\n",
    "def create_batch(policy_network, batch_size, env, gamma): # done\n",
    "    batch_discrew, batch_obs, batch_acts, total_rewards = [],[],[],[]\n",
    "    for ep in range(batch_size):\n",
    "        observations, actions, rewards = create_episode(policy_network, env)\n",
    "        batch_discrew.extend(normalized_discounted_rewards(rewards, gamma))\n",
    "        batch_obs.extend(observations)\n",
    "        batch_acts.extend(actions)\n",
    "        total_rewards.append(sum(rewards))\n",
    "    avg_return = np.mean(total_rewards)\n",
    "    #print(\"Created a batch\")\n",
    "    return batch_discrew, batch_obs, batch_acts, avg_return\n",
    "\n",
    "\n",
    "# optimize policy parameters --> calculate loss:\n",
    "#                                       --> sum of gradients of policy gradient for all actions in an episode\n",
    "#                                           --> arguments should contain all episodes (in a tensor for example)\n",
    "#                                           --> sum(actions * softmax(logits)), use softmax to transform logits to probs\n",
    "#                                       --> weight the sum by discounted rewards (discounted rewards is acting as A)\n",
    "#                                       --> loss =  -average of previous result\n",
    "#                            --> calculate gradients of each layer: use the loss to backpropogate and obtain the gradients\n",
    "#                            --> update weights of each layer\n",
    "\n",
    "\n",
    "def VPG_loss(policy_net, obs_tensor, reward_tensor, action_tensor):\n",
    "    # calculate loss\n",
    "    logprobs = torch.log(policy_net.predict(obs_tensor))\n",
    "    logprobs_a = torch.gather(logprobs, 1, action_tensor.view(-1,1)).squeeze()\n",
    "    logprobs_b = reward_tensor * logprobs_a \n",
    "    loss = -logprobs_b.mean()\n",
    "    return loss\n"
   ]
  },
  {
   "cell_type": "code",
   "execution_count": 17,
   "metadata": {},
   "outputs": [],
   "source": [
    "def rl(env, policy_net, num_epochs, batch_size, gamma, loss_type, optimizer_type):\n",
    "    avg_returns = []\n",
    "    \n",
    "    epoch = 0\n",
    "    # Define optimizer\n",
    "    if optimizer_type == \"Adam\":\n",
    "        optimizer = optim.Adam(policy_net.network.parameters(), lr=0.01) \n",
    "    \n",
    "    action_space = np.arange(env.action_space.n)\n",
    "    \n",
    "    while epoch < num_epochs:\n",
    "        #create a batch\n",
    "        batch_discrew, batch_obs, batch_acts, avg_return = create_batch(policy_net, batch_size, env, gamma)\n",
    "        avg_returns.append(avg_return)\n",
    "        print(\"\\rEpoch:\"+\" {:.2f}\".format(epoch+1)+\" Average reward of batch:\" + \"{:.2f}\".format(avg_return), end=\"\")\n",
    "        optimizer.zero_grad()\n",
    "        \n",
    "        #convert to tensors\n",
    "        obs_tensor = torch.FloatTensor(batch_obs)\n",
    "        reward_tensor = torch.FloatTensor(batch_discrew)\n",
    "        action_tensor = torch.LongTensor(batch_acts)\n",
    "        \n",
    "        #calculate loss and update parameters of policy network\n",
    "        if loss_type == \"VPG\":\n",
    "            logprobs = torch.log(policy_net.predict(obs_tensor))\n",
    "            logprobs1= reward_tensor * torch.gather(logprobs, 1, action_tensor.view(-1,1)).squeeze() # does the sum over grads\n",
    "            loss = -logprobs1.mean()\n",
    "            loss.backward()\n",
    "            optimizer.step()\n",
    "        \n",
    "        \n",
    "        epoch += 1\n",
    "    \n",
    "    \n",
    "    return avg_returns"
   ]
  },
  {
   "cell_type": "code",
   "execution_count": 22,
   "metadata": {},
   "outputs": [],
   "source": [
    "def main():\n",
    "    env = gym.make('CartPole-v0')\n",
    "    avg_returns = rl(env, policy_network(env), num_epochs=40, batch_size=20, \n",
    "                     gamma=0.99, loss_type = \"VPG\", optimizer_type = \"Adam\")\n",
    "    return avg_returns"
   ]
  },
  {
   "cell_type": "code",
   "execution_count": 23,
   "metadata": {},
   "outputs": [
    {
     "name": "stdout",
     "output_type": "stream",
     "text": [
      "Epoch: 40.00 Average reward of batch:200.00"
     ]
    },
    {
     "data": {
      "image/png": "[encoded data removed]",
      "text/plain": [
       "<Figure size 432x288 with 1 Axes>"
      ]
     },
     "metadata": {
      "needs_background": "light"
     },
     "output_type": "display_data"
    }
   ],
   "source": [
    "plt.plot(main())\n",
    "plt.ylabel(\"average return\")\n",
    "plt.xlabel(\"epoch\")\n",
    "plt.show()"
   ]
  },
  {
   "cell_type": "code",
   "execution_count": null,
   "metadata": {},
   "outputs": [],
   "source": []
  }
 ],
 "metadata": {
  "kernelspec": {
   "display_name": "Python 3",
   "language": "python",
   "name": "python3"
  },
  "language_info": {
   "codemirror_mode": {
    "name": "ipython",
    "version": 3
   },
   "file_extension": ".py",
   "mimetype": "text/x-python",
   "name": "python",
   "nbconvert_exporter": "python",
   "pygments_lexer": "ipython3",
   "version": "3.5.2"
  }
 },
 "nbformat": 4,
 "nbformat_minor": 4
}
